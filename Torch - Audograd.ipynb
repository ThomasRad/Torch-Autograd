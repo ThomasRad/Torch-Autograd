{
 "cells": [
  {
   "cell_type": "markdown",
   "metadata": {},
   "source": [
    "# Using Autograd In Torch"
   ]
  },
  {
   "cell_type": "code",
   "execution_count": 2,
   "metadata": {},
   "outputs": [],
   "source": [
    "# Import\n",
    "\n",
    "import torch"
   ]
  },
  {
   "cell_type": "code",
   "execution_count": 15,
   "metadata": {},
   "outputs": [
    {
     "name": "stdout",
     "output_type": "stream",
     "text": [
      "tensor([ 0.6471, -1.2873, -0.4827], requires_grad=True)\n"
     ]
    }
   ],
   "source": [
    "# set up a tensor.\n",
    "\n",
    "x = torch.randn(3, requires_grad = True)\n",
    "print(x)"
   ]
  },
  {
   "cell_type": "code",
   "execution_count": 16,
   "metadata": {},
   "outputs": [
    {
     "name": "stdout",
     "output_type": "stream",
     "text": [
      "tensor([2.6471, 0.7127, 1.5173], grad_fn=<AddBackward0>)\n"
     ]
    }
   ],
   "source": [
    "# Adding a number to x. \n",
    "\n",
    "y = x + 2\n",
    "print(y)"
   ]
  },
  {
   "cell_type": "code",
   "execution_count": 9,
   "metadata": {},
   "outputs": [],
   "source": [
    "# Another operation on the tensor. \n",
    "\n",
    "z = y*y*2\n",
    "\n",
    "# The mean\n",
    "\n",
    "z = z.mean()"
   ]
  },
  {
   "cell_type": "code",
   "execution_count": 10,
   "metadata": {},
   "outputs": [
    {
     "name": "stdout",
     "output_type": "stream",
     "text": [
      "tensor([2.0474, 2.1676, 3.8958])\n"
     ]
    }
   ],
   "source": [
    "# If we want to calculate the gradiant of z.\n",
    "\n",
    "z.backward()\n",
    "\n",
    "# Print out te gradient of x\n",
    "\n",
    "print(x.grad)"
   ]
  },
  {
   "cell_type": "code",
   "execution_count": 12,
   "metadata": {},
   "outputs": [],
   "source": [
    "# Another operation on the tensor. \n",
    "\n",
    "z = y*y*2\n",
    "\n",
    "# Not doing the mean of z this time. \n",
    "\n",
    "v = torch.tensor([0.1,1.0,0.01], dtype = torch.float32)\n",
    "\n",
    "z.backward(v)"
   ]
  },
  {
   "cell_type": "code",
   "execution_count": 17,
   "metadata": {},
   "outputs": [
    {
     "name": "stdout",
     "output_type": "stream",
     "text": [
      "tensor([2.6471, 0.7127, 1.5173])\n"
     ]
    }
   ],
   "source": [
    "# To remove any memory of the grad. \n",
    "\n",
    "y = x.detach()\n",
    "y\n",
    "\n",
    "# Or this method. \n",
    "\n",
    "with torch.no_grad():\n",
    "    y = x + 2 \n",
    "    print(y)"
   ]
  }
 ],
 "metadata": {
  "kernelspec": {
   "display_name": "Python 3",
   "language": "python",
   "name": "python3"
  },
  "language_info": {
   "codemirror_mode": {
    "name": "ipython",
    "version": 3
   },
   "file_extension": ".py",
   "mimetype": "text/x-python",
   "name": "python",
   "nbconvert_exporter": "python",
   "pygments_lexer": "ipython3",
   "version": "3.7.6"
  }
 },
 "nbformat": 4,
 "nbformat_minor": 4
}
